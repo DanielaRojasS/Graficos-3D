{
  "nbformat": 4,
  "nbformat_minor": 0,
  "metadata": {
    "colab": {
      "provenance": [],
      "authorship_tag": "ABX9TyPpVaMKTgA1MoHFEFsXBisR",
      "include_colab_link": true
    },
    "kernelspec": {
      "name": "python3",
      "display_name": "Python 3"
    },
    "language_info": {
      "name": "python"
    }
  },
  "cells": [
    {
      "cell_type": "markdown",
      "metadata": {
        "id": "view-in-github",
        "colab_type": "text"
      },
      "source": [
        "<a href=\"https://colab.research.google.com/github/DanielaRojasS/Graficos-3D/blob/main/BajoPesoNacer.ipynb\" target=\"_parent\"><img src=\"https://colab.research.google.com/assets/colab-badge.svg\" alt=\"Open In Colab\"/></a>"
      ]
    },
    {
      "cell_type": "code",
      "execution_count": 18,
      "metadata": {
        "id": "6u36sk2v5Zih"
      },
      "outputs": [],
      "source": [
        "import pandas as pd\n",
        "import numpy as np\n",
        "\n",
        "# cargar el archivo\n",
        "url = '/content/BajoPesoNacer.csv'\n",
        "df = pd.read_csv(url)"
      ]
    },
    {
      "cell_type": "code",
      "source": [
        "# revisar cantidad de columnas y filas\n",
        "shape = df.shape\n",
        "print(shape)\n",
        "\n",
        "# mostrar las 5 primeras y 5 ultimas filas\n",
        "print(df)"
      ],
      "metadata": {
        "id": "X6nCG0hMHsmb",
        "colab": {
          "base_uri": "https://localhost:8080/"
        },
        "outputId": "68f181a7-8da1-4abb-b8e0-fcf064c835d0"
      },
      "execution_count": 19,
      "outputs": [
        {
          "output_type": "stream",
          "name": "stdout",
          "text": [
            "(10187, 19)\n",
            "          id  semana  edad_  uni_med_ sexo_       nombre_barrio  \\\n",
            "0          1      41     28         1     M             Oriente   \n",
            "1          2      41     17         1     F     SIN INFORMACION   \n",
            "2          3      44     19         1     F   Villa del Socorro   \n",
            "3          4      47     27         1     F  Las Independencias   \n",
            "4          5      47     23         1     F            Granizal   \n",
            "...      ...     ...    ...       ...   ...                 ...   \n",
            "10182  10183      40     39         1     F     Sin informacion   \n",
            "10183  10184       1     31         1     F     Sin informacion   \n",
            "10184  10185       1     23         1     F     Sin informacion   \n",
            "10185  10186       1     25         1     F     Sin informacion   \n",
            "10186  10187       2     20         1     F     Sin informacion   \n",
            "\n",
            "                comuna tipo_ss_ cod_ase_    fec_con_    ini_sin_  tip_cas_  \\\n",
            "0             Manrique        N     \\\"\\\"  01/01/1900  01/01/1900         4   \n",
            "1      SIN INFORMACION        S   EPS003  01/01/1900  01/01/1900         4   \n",
            "2           Santa Cruz        S   EPS003  01/01/1900  01/01/1900         4   \n",
            "3           San Javier        S   EPS003  01/01/1900  01/01/1900         4   \n",
            "4              Popular        N     \\\"\\\"  01/01/1900  01/01/1900         4   \n",
            "...                ...      ...      ...         ...         ...       ...   \n",
            "10182  Sin informacion        C   EPS010  07/10/2021  01/01/1900         4   \n",
            "10183  Sin informacion        N     \\\"\\\"  03/01/2021  01/01/1900         4   \n",
            "10184  Sin informacion        N     \\\"\\\"  04/01/2021  01/01/1900         4   \n",
            "10185  Sin informacion        C   EPS010  09/01/2021  01/01/1900         4   \n",
            "10186  Sin informacion        N     \\\"\\\"  14/01/2021  01/01/1900         4   \n",
            "\n",
            "       pac_hos_ peso_nacer talla_nacer sem_gest niv_edu_ma  \\\n",
            "0             1       2440          49       38         SD   \n",
            "1             1       2490          46       37         SD   \n",
            "2             1       2290          47       37         SD   \n",
            "3             1       2400          49       37         SD   \n",
            "4             1       2240          47       38         SD   \n",
            "...         ...        ...         ...      ...        ...   \n",
            "10182         1       2390          48       39          2   \n",
            "10183         1       2380          48       38          2   \n",
            "10184         1       2440          49       38          2   \n",
            "10185         2       2260          46       37          3   \n",
            "10186         1       2445          48       38          2   \n",
            "\n",
            "                   evento  year_  \n",
            "0      BAJO PESO AL NACER   2011  \n",
            "1      BAJO PESO AL NACER   2011  \n",
            "2      BAJO PESO AL NACER   2011  \n",
            "3      BAJO PESO AL NACER   2011  \n",
            "4      BAJO PESO AL NACER   2011  \n",
            "...                   ...    ...  \n",
            "10182  BAJO PESO AL NACER   2021  \n",
            "10183  BAJO PESO AL NACER   2021  \n",
            "10184  BAJO PESO AL NACER   2021  \n",
            "10185  BAJO PESO AL NACER   2021  \n",
            "10186  BAJO PESO AL NACER   2021  \n",
            "\n",
            "[10187 rows x 19 columns]\n"
          ]
        }
      ]
    },
    {
      "cell_type": "code",
      "source": [
        "# filtrar los datos\n",
        "filtro = df['sexo_'] == 'M'\n",
        "datos_filtrados = df[filtro]\n",
        "print(datos_filtrados)"
      ],
      "metadata": {
        "id": "FrrYvABHIcf4",
        "colab": {
          "base_uri": "https://localhost:8080/"
        },
        "outputId": "82bd5106-ce64-4373-f1e8-73810011bdfd"
      },
      "execution_count": 20,
      "outputs": [
        {
          "output_type": "stream",
          "name": "stdout",
          "text": [
            "        id  semana  edad_  uni_med_ sexo_             nombre_barrio  \\\n",
            "0        1      41     28         1     M                   Oriente   \n",
            "603    604       1      5         1     M           SIN INFORMACION   \n",
            "2567  2568      40     26         1     M                  Castilla   \n",
            "2583  2584      33     19         1     M  Santo Domingo Savio No.2   \n",
            "2620  2621      42     22         1     M               El Salvador   \n",
            "3237  3238      13     19         1     M                    Enciso   \n",
            "3250  3251      16     22         1     M                     Sucre   \n",
            "3324  3325      18     22         1     M                    Loreto   \n",
            "5089  5090       6     19         1     M                Aures No.2   \n",
            "5099  5100       8     21         1     M                   Popular   \n",
            "6598  6599      30     35         1     M                Blanquizal   \n",
            "6607  6608      32     25         1     M                   Popular   \n",
            "6641  6642      38     31         1     M                  El Pinal   \n",
            "6801  6802      47     18         1     M             Las Estancias   \n",
            "6830  6831      42     27         1     M            Versalles No.1   \n",
            "6974  6975      53     31         1     M               La Libertad   \n",
            "\n",
            "               comuna tipo_ss_ cod_ase_    fec_con_    ini_sin_  tip_cas_  \\\n",
            "0            Manrique        N     \\\"\\\"  01/01/1900  01/01/1900         4   \n",
            "603   SIN INFORMACION        C   EPS010  01/01/1900  01/01/1900         4   \n",
            "2567         Castilla        S   UT-004  01/10/2014  01/01/1900         4   \n",
            "2583          Popular        C   EPS010  11/08/2014  01/01/1900         4   \n",
            "2620     Buenos Aires        C   EPS016  13/10/2014  01/01/1900         4   \n",
            "3237    Villa Hermosa        C   EPS002  02/04/2015  01/01/1900         4   \n",
            "3250    Villa Hermosa        C   EPS010  23/04/2015  01/01/1900         4   \n",
            "3324     Buenos Aires        C   EPS010  06/05/2015  01/01/1900         4   \n",
            "5089          Robledo        C   EPS002  10/02/2015  01/01/1900         4   \n",
            "5099          Popular        C   EPS010  23/02/2015  01/01/1900         4   \n",
            "6598       San Javier        C   EPS002  26/07/2014  01/01/1900         4   \n",
            "6607          Popular        S   UT-004  08/08/2014  01/01/1900         4   \n",
            "6641    Villa Hermosa        C   EPS037  16/09/2014  01/01/1900         4   \n",
            "6801    Villa Hermosa        C   EPS010  20/11/2014  01/01/1900         4   \n",
            "6830         Manrique        C   EPS010  17/10/2014  01/01/1900         4   \n",
            "6974    Villa Hermosa        S   UT-004  02/01/2015  01/01/1900         4   \n",
            "\n",
            "      pac_hos_ peso_nacer talla_nacer sem_gest niv_edu_ma              evento  \\\n",
            "0            1       2440          49       38         SD  BAJO PESO AL NACER   \n",
            "603          2       2420          44       37         SD  BAJO PESO AL NACER   \n",
            "2567         2       2410          48       38          3  BAJO PESO AL NACER   \n",
            "2583         1       2390          45       38          2  BAJO PESO AL NACER   \n",
            "2620         2       2140          44       38          2  BAJO PESO AL NACER   \n",
            "3237         2       2410          48       40          2  BAJO PESO AL NACER   \n",
            "3250         2       2310          43       37          2  BAJO PESO AL NACER   \n",
            "3324         2       2330          48       38          2  BAJO PESO AL NACER   \n",
            "5089         2       2240          45       37          2  BAJO PESO AL NACER   \n",
            "5099         2       2340          45       37          2  BAJO PESO AL NACER   \n",
            "6598         2       2480          44       37          2  BAJO PESO AL NACER   \n",
            "6607         2       2240          44       38          2  BAJO PESO AL NACER   \n",
            "6641         2       2430          45       38          3  BAJO PESO AL NACER   \n",
            "6801         2       2460          47       40          2  BAJO PESO AL NACER   \n",
            "6830         2       2370          46       37          2  BAJO PESO AL NACER   \n",
            "6974         2       2030          46       37          2  BAJO PESO AL NACER   \n",
            "\n",
            "      year_  \n",
            "0      2011  \n",
            "603    2012  \n",
            "2567   2014  \n",
            "2583   2014  \n",
            "2620   2014  \n",
            "3237   2015  \n",
            "3250   2015  \n",
            "3324   2015  \n",
            "5089   2015  \n",
            "5099   2015  \n",
            "6598   2014  \n",
            "6607   2014  \n",
            "6641   2014  \n",
            "6801   2014  \n",
            "6830   2014  \n",
            "6974   2014  \n"
          ]
        }
      ]
    },
    {
      "cell_type": "code",
      "source": [
        "# valores unicos\n",
        "unique = df['comuna'].unique()\n",
        "#df['peso_nacer'].drop_duplicates()\n",
        "print(unique)\n",
        "\n",
        "# contar valores unicos\n",
        "count_unique_values = df['comuna'].value_counts()\n",
        "print(count_unique_values)\n"
      ],
      "metadata": {
        "id": "LkCtnh74Ix-m",
        "colab": {
          "base_uri": "https://localhost:8080/"
        },
        "outputId": "b02a6612-c9ac-4e8f-ab9c-f4ca778edaa0"
      },
      "execution_count": 21,
      "outputs": [
        {
          "output_type": "stream",
          "name": "stdout",
          "text": [
            "['Manrique' 'SIN INFORMACION' 'Santa Cruz' 'San Javier' 'Popular'\n",
            " 'Robledo' 'Villa Hermosa' 'El Poblado' 'Doce de Octubre' 'Buenos Aires'\n",
            " 'Laureles' 'La Candelaria' 'La America' 'San Antonio de Prado' 'Belen'\n",
            " 'Corregimiento de San Cristobal' 'Aranjuez' 'Castilla' 'Guayabal'\n",
            " 'Corregimiento De Santa Elena' 'Altavista' 'San Sebastian de Palmitas'\n",
            " 'Corregimiento de Santa Elena' 'Sin informacion']\n",
            "comuna\n",
            "Manrique                          858\n",
            "Robledo                           820\n",
            "Villa Hermosa                     784\n",
            "Popular                           768\n",
            "San Javier                        733\n",
            "Doce de Octubre                   710\n",
            "Belen                             644\n",
            "Buenos Aires                      613\n",
            "Aranjuez                          595\n",
            "Santa Cruz                        552\n",
            "Castilla                          405\n",
            "La Candelaria                     400\n",
            "El Poblado                        356\n",
            "SIN INFORMACION                   334\n",
            "San Antonio de Prado              323\n",
            "Corregimiento de San Cristobal    309\n",
            "Guayabal                          231\n",
            "Laureles                          226\n",
            "La America                        220\n",
            "Altavista                         120\n",
            "Sin informacion                    86\n",
            "Corregimiento De Santa Elena       61\n",
            "Corregimiento de Santa Elena       26\n",
            "San Sebastian de Palmitas          13\n",
            "Name: count, dtype: int64\n"
          ]
        }
      ]
    },
    {
      "cell_type": "code",
      "source": [
        "# resumen del df\n",
        "print(df.info())"
      ],
      "metadata": {
        "id": "-SNLJt-uJXhm",
        "colab": {
          "base_uri": "https://localhost:8080/"
        },
        "outputId": "6134283c-828b-4236-c2db-f932a76a8829"
      },
      "execution_count": 22,
      "outputs": [
        {
          "output_type": "stream",
          "name": "stdout",
          "text": [
            "<class 'pandas.core.frame.DataFrame'>\n",
            "RangeIndex: 10187 entries, 0 to 10186\n",
            "Data columns (total 19 columns):\n",
            " #   Column         Non-Null Count  Dtype \n",
            "---  ------         --------------  ----- \n",
            " 0   id             10187 non-null  int64 \n",
            " 1   semana         10187 non-null  int64 \n",
            " 2   edad_          10187 non-null  int64 \n",
            " 3   uni_med_       10187 non-null  int64 \n",
            " 4   sexo_          10187 non-null  object\n",
            " 5   nombre_barrio  10187 non-null  object\n",
            " 6   comuna         10187 non-null  object\n",
            " 7   tipo_ss_       10187 non-null  object\n",
            " 8   cod_ase_       10187 non-null  object\n",
            " 9   fec_con_       10187 non-null  object\n",
            " 10  ini_sin_       10187 non-null  object\n",
            " 11  tip_cas_       10187 non-null  int64 \n",
            " 12  pac_hos_       10187 non-null  int64 \n",
            " 13  peso_nacer     10187 non-null  object\n",
            " 14  talla_nacer    10187 non-null  object\n",
            " 15  sem_gest       10187 non-null  object\n",
            " 16  niv_edu_ma     10187 non-null  object\n",
            " 17  evento         10187 non-null  object\n",
            " 18  year_          10187 non-null  int64 \n",
            "dtypes: int64(7), object(12)\n",
            "memory usage: 1.5+ MB\n",
            "None\n"
          ]
        }
      ]
    },
    {
      "cell_type": "code",
      "source": [
        "# agregar nueva columna sexo\n",
        "\n",
        "df['nueva_columna_sexo'] = df['sexo_'].apply(lambda x: 1 if x == 'M' else 0 )\n",
        "print(df.tail())"
      ],
      "metadata": {
        "id": "FxNkZmN7JQ00",
        "colab": {
          "base_uri": "https://localhost:8080/"
        },
        "outputId": "a08fea9f-c673-42e6-8dc5-cb82ec276f40"
      },
      "execution_count": 23,
      "outputs": [
        {
          "output_type": "stream",
          "name": "stdout",
          "text": [
            "          id  semana  edad_  uni_med_ sexo_    nombre_barrio           comuna  \\\n",
            "10182  10183      40     39         1     F  Sin informacion  Sin informacion   \n",
            "10183  10184       1     31         1     F  Sin informacion  Sin informacion   \n",
            "10184  10185       1     23         1     F  Sin informacion  Sin informacion   \n",
            "10185  10186       1     25         1     F  Sin informacion  Sin informacion   \n",
            "10186  10187       2     20         1     F  Sin informacion  Sin informacion   \n",
            "\n",
            "      tipo_ss_ cod_ase_    fec_con_    ini_sin_  tip_cas_  pac_hos_  \\\n",
            "10182        C   EPS010  07/10/2021  01/01/1900         4         1   \n",
            "10183        N     \\\"\\\"  03/01/2021  01/01/1900         4         1   \n",
            "10184        N     \\\"\\\"  04/01/2021  01/01/1900         4         1   \n",
            "10185        C   EPS010  09/01/2021  01/01/1900         4         2   \n",
            "10186        N     \\\"\\\"  14/01/2021  01/01/1900         4         1   \n",
            "\n",
            "      peso_nacer talla_nacer sem_gest niv_edu_ma              evento  year_  \\\n",
            "10182       2390          48       39          2  BAJO PESO AL NACER   2021   \n",
            "10183       2380          48       38          2  BAJO PESO AL NACER   2021   \n",
            "10184       2440          49       38          2  BAJO PESO AL NACER   2021   \n",
            "10185       2260          46       37          3  BAJO PESO AL NACER   2021   \n",
            "10186       2445          48       38          2  BAJO PESO AL NACER   2021   \n",
            "\n",
            "       nueva_columna_sexo  \n",
            "10182                   0  \n",
            "10183                   0  \n",
            "10184                   0  \n",
            "10185                   0  \n",
            "10186                   0  \n"
          ]
        }
      ]
    },
    {
      "cell_type": "code",
      "source": [
        "# Convertir columna a numerica\n",
        "df['sem_gest'] = pd.to_numeric(df['sem_gest'], errors='coerce')\n",
        "\n",
        "#los vacios completar con 0\n",
        "df['sem_gest'] = df['sem_gest'].fillna(0)\n",
        "#convertir de flotante a entero\n",
        "df['sem_gest'] = df['sem_gest'].astype('int')\n",
        "\n",
        "# resumen del df\n",
        "print(df.info())"
      ],
      "metadata": {
        "id": "WZyOFrCm48Mk",
        "colab": {
          "base_uri": "https://localhost:8080/"
        },
        "outputId": "d2a62c93-e091-4ec0-b266-a848dce0da8a"
      },
      "execution_count": 24,
      "outputs": [
        {
          "output_type": "stream",
          "name": "stdout",
          "text": [
            "<class 'pandas.core.frame.DataFrame'>\n",
            "RangeIndex: 10187 entries, 0 to 10186\n",
            "Data columns (total 20 columns):\n",
            " #   Column              Non-Null Count  Dtype \n",
            "---  ------              --------------  ----- \n",
            " 0   id                  10187 non-null  int64 \n",
            " 1   semana              10187 non-null  int64 \n",
            " 2   edad_               10187 non-null  int64 \n",
            " 3   uni_med_            10187 non-null  int64 \n",
            " 4   sexo_               10187 non-null  object\n",
            " 5   nombre_barrio       10187 non-null  object\n",
            " 6   comuna              10187 non-null  object\n",
            " 7   tipo_ss_            10187 non-null  object\n",
            " 8   cod_ase_            10187 non-null  object\n",
            " 9   fec_con_            10187 non-null  object\n",
            " 10  ini_sin_            10187 non-null  object\n",
            " 11  tip_cas_            10187 non-null  int64 \n",
            " 12  pac_hos_            10187 non-null  int64 \n",
            " 13  peso_nacer          10187 non-null  object\n",
            " 14  talla_nacer         10187 non-null  object\n",
            " 15  sem_gest            10187 non-null  int64 \n",
            " 16  niv_edu_ma          10187 non-null  object\n",
            " 17  evento              10187 non-null  object\n",
            " 18  year_               10187 non-null  int64 \n",
            " 19  nueva_columna_sexo  10187 non-null  int64 \n",
            "dtypes: int64(9), object(11)\n",
            "memory usage: 1.6+ MB\n",
            "None\n"
          ]
        }
      ]
    },
    {
      "cell_type": "code",
      "source": [
        "# Convertir peso y talla nacer a numerica\n",
        "df[['peso_nacer', 'talla_nacer']] = df[['peso_nacer', 'talla_nacer']].apply(pd.to_numeric, errors='coerce')\n",
        "\n",
        "df[['peso_nacer', 'talla_nacer']] = df[['peso_nacer', 'talla_nacer']].fillna(0)\n",
        "df[['peso_nacer', 'talla_nacer']] = df[['peso_nacer', 'talla_nacer']].astype(int)\n",
        "\n",
        "# resumen del df\n",
        "print(df.info())"
      ],
      "metadata": {
        "id": "-TMlku5a59Vr",
        "colab": {
          "base_uri": "https://localhost:8080/"
        },
        "outputId": "21ca9a34-50ab-49ed-8891-6624cde8b173"
      },
      "execution_count": 25,
      "outputs": [
        {
          "output_type": "stream",
          "name": "stdout",
          "text": [
            "<class 'pandas.core.frame.DataFrame'>\n",
            "RangeIndex: 10187 entries, 0 to 10186\n",
            "Data columns (total 20 columns):\n",
            " #   Column              Non-Null Count  Dtype \n",
            "---  ------              --------------  ----- \n",
            " 0   id                  10187 non-null  int64 \n",
            " 1   semana              10187 non-null  int64 \n",
            " 2   edad_               10187 non-null  int64 \n",
            " 3   uni_med_            10187 non-null  int64 \n",
            " 4   sexo_               10187 non-null  object\n",
            " 5   nombre_barrio       10187 non-null  object\n",
            " 6   comuna              10187 non-null  object\n",
            " 7   tipo_ss_            10187 non-null  object\n",
            " 8   cod_ase_            10187 non-null  object\n",
            " 9   fec_con_            10187 non-null  object\n",
            " 10  ini_sin_            10187 non-null  object\n",
            " 11  tip_cas_            10187 non-null  int64 \n",
            " 12  pac_hos_            10187 non-null  int64 \n",
            " 13  peso_nacer          10187 non-null  int64 \n",
            " 14  talla_nacer         10187 non-null  int64 \n",
            " 15  sem_gest            10187 non-null  int64 \n",
            " 16  niv_edu_ma          10187 non-null  object\n",
            " 17  evento              10187 non-null  object\n",
            " 18  year_               10187 non-null  int64 \n",
            " 19  nueva_columna_sexo  10187 non-null  int64 \n",
            "dtypes: int64(11), object(9)\n",
            "memory usage: 1.6+ MB\n",
            "None\n"
          ]
        }
      ]
    },
    {
      "cell_type": "code",
      "source": [
        "# pasar columna comuna a numerica\n",
        "comuna = {\n",
        "    'Popular': 1,\n",
        "    'Santa Cruz': 2,\n",
        "    'Manrique': 3,\n",
        "    'Aranjuez': 4,\n",
        "    'Castilla': 5,\n",
        "    'Doce de Octubre': 6,\n",
        "    'Robledo': 7,\n",
        "    'Villa Hermosa': 8,\n",
        "    'Buenos Aires':9,\n",
        "    'La Candelaria': 10,\n",
        "    'Laureles': 11,\n",
        "    'La America': 12,\n",
        "    'San Javier': 13,\n",
        "    'El Poblado': 14,\n",
        "    'Guayabal': 15,\n",
        "    'Belen': 16,\n",
        "    'Altavista': 17,\n",
        "    'San Sebastian de Palmitas': 18,\n",
        "    'San Antonio de Prado': 19,\n",
        "    'Corregimiento de San Cristobal': 20,\n",
        "    'Corregimiento de Santa Elena': 21,\n",
        "    'SIN INFORMACION': 22\n",
        "}\n",
        "\n",
        "df['numero_comuna'] = df['comuna'].map(comuna).fillna(0).astype(int)\n",
        "\n",
        "# columna tipo de seguridad social a numerica\n",
        "tipo_ss_ = {\n",
        "    'C': 1, #CONTRIBUTIVO\n",
        "    'S': 2, #SUBSIDIADO\n",
        "    'N': 3, #NO ASEGURADO\n",
        "    'P': 4, #EXCEPCION\n",
        "    'E': 5, #ESPECIAL\n",
        "    'I': 6, #INDETERMINADO/PENDIENTE\n",
        "}\n",
        "\n",
        "df['numero_tipo_ss_'] = df['tipo_ss_'].map(tipo_ss_).fillna(0).astype(int)\n",
        "\n",
        "# ver elementos aleatorios\n",
        "print(df.sample(7))"
      ],
      "metadata": {
        "colab": {
          "base_uri": "https://localhost:8080/"
        },
        "id": "XuFDPRqa8kz_",
        "outputId": "7166eb3c-0c16-4dba-ad11-5faba9de15af"
      },
      "execution_count": 26,
      "outputs": [
        {
          "output_type": "stream",
          "name": "stdout",
          "text": [
            "        id  semana  edad_  uni_med_ sexo_               nombre_barrio  \\\n",
            "7505  7506      20     23         1     F               López de Mesa   \n",
            "5591  5592       9     17         1     F                    El Pinal   \n",
            "9614  9615      40     29         1     F           Manrique Oriental   \n",
            "411    412      16     24         1     F                    Brasilia   \n",
            "5257  5258      31     20         1     F        San Antonio de Prado   \n",
            "8717  8718      46     20         1     F  Área de Expansión Pajarito   \n",
            "9348  9349      44     33         1     F               Villa Carlota   \n",
            "\n",
            "                              comuna tipo_ss_ cod_ase_    fec_con_  ...  \\\n",
            "7505                         Robledo        C   EPS002  12/05/2019  ...   \n",
            "5591                   Villa Hermosa        S   UT-004  05/03/2015  ...   \n",
            "9614                        Manrique        C   EPS010  04/10/2021  ...   \n",
            "411                         Aranjuez        S   ESS002  19/04/2012  ...   \n",
            "5257            San Antonio de Prado        S   EPS003  07/08/2015  ...   \n",
            "8717  Corregimiento de San Cristobal        S   EPSS02  12/11/2020  ...   \n",
            "9348                      El Poblado        C   EPS002  04/11/2021  ...   \n",
            "\n",
            "     pac_hos_  peso_nacer  talla_nacer  sem_gest  niv_edu_ma  \\\n",
            "7505        1        2480           47        40           3   \n",
            "5591        1        2230           47        38           2   \n",
            "9614        1        2435           48        39           2   \n",
            "411         1        2140           44        39           1   \n",
            "5257        2        2143           45        37           2   \n",
            "8717        1        2330           46        38           2   \n",
            "9348        2        2490           47        37           2   \n",
            "\n",
            "                  evento year_ nueva_columna_sexo  numero_comuna  \\\n",
            "7505  BAJO PESO AL NACER  2019                  0              7   \n",
            "5591  BAJO PESO AL NACER  2015                  0              8   \n",
            "9614  BAJO PESO AL NACER  2021                  0              3   \n",
            "411   BAJO PESO AL NACER  2012                  0              4   \n",
            "5257  BAJO PESO AL NACER  2015                  0             19   \n",
            "8717  BAJO PESO AL NACER  2020                  0             20   \n",
            "9348  BAJO PESO AL NACER  2021                  0             14   \n",
            "\n",
            "      numero_tipo_ss_  \n",
            "7505                1  \n",
            "5591                2  \n",
            "9614                1  \n",
            "411                 2  \n",
            "5257                2  \n",
            "8717                2  \n",
            "9348                1  \n",
            "\n",
            "[7 rows x 22 columns]\n"
          ]
        }
      ]
    },
    {
      "cell_type": "code",
      "source": [
        "# calcular estadistica descriptiva\n",
        "print(df.describe())"
      ],
      "metadata": {
        "colab": {
          "base_uri": "https://localhost:8080/"
        },
        "id": "TmnKIa-Q7K7c",
        "outputId": "06f32b6f-5336-4357-fbe6-2c6aa49aff8d"
      },
      "execution_count": 27,
      "outputs": [
        {
          "output_type": "stream",
          "name": "stdout",
          "text": [
            "                id        semana         edad_  uni_med_  tip_cas_  \\\n",
            "count  10187.00000  10187.000000  10187.000000   10187.0   10187.0   \n",
            "mean    5094.00000     27.027977     25.572593       1.0       4.0   \n",
            "std     2940.87793     14.675129      6.749109       0.0       0.0   \n",
            "min        1.00000      1.000000      5.000000       1.0       4.0   \n",
            "25%     2547.50000     15.000000     20.000000       1.0       4.0   \n",
            "50%     5094.00000     28.000000     25.000000       1.0       4.0   \n",
            "75%     7640.50000     39.000000     30.000000       1.0       4.0   \n",
            "max    10187.00000     53.000000     57.000000       1.0       4.0   \n",
            "\n",
            "           pac_hos_    peso_nacer   talla_nacer      sem_gest         year_  \\\n",
            "count  10187.000000  10187.000000  10187.000000  10187.000000  10187.000000   \n",
            "mean       1.368313   2313.364779     45.746638     37.647492   2016.594778   \n",
            "std        0.482370    170.419778      4.709936      1.016897      2.837770   \n",
            "min        1.000000      0.000000      0.000000      0.000000   2011.000000   \n",
            "25%        1.000000   2240.000000     45.000000     37.000000   2014.000000   \n",
            "50%        1.000000   2360.000000     46.000000     37.000000   2017.000000   \n",
            "75%        2.000000   2440.000000     47.000000     38.000000   2019.000000   \n",
            "max        2.000000   2499.000000     55.000000     45.000000   2021.000000   \n",
            "\n",
            "       nueva_columna_sexo  numero_comuna  numero_tipo_ss_  \n",
            "count        10187.000000   10187.000000     10187.000000  \n",
            "mean             0.001571       8.887111         1.514283  \n",
            "std              0.039602       5.887470         0.761886  \n",
            "min              0.000000       0.000000         1.000000  \n",
            "25%              0.000000       4.000000         1.000000  \n",
            "50%              0.000000       8.000000         1.000000  \n",
            "75%              0.000000      13.000000         2.000000  \n",
            "max              1.000000      22.000000         6.000000  \n"
          ]
        }
      ]
    },
    {
      "cell_type": "code",
      "source": [
        "#poner rangos de edad\n",
        "\n",
        "def rangos_edad(edad):\n",
        "  if edad < 15:\n",
        "    return \"0-14\"\n",
        "  elif edad < 25:\n",
        "    return \"15-24\"\n",
        "  elif edad < 35:\n",
        "    return \"25-34\"\n",
        "  elif edad < 45:\n",
        "    return \"35-44\"\n",
        "  else:\n",
        "    return \"45 o mas\"\n",
        "\n",
        "df['rango_edad_'] = df['edad_'].apply(rangos_edad)\n",
        "print(df.head())"
      ],
      "metadata": {
        "colab": {
          "base_uri": "https://localhost:8080/"
        },
        "id": "CWbwfURsQF9D",
        "outputId": "5b911f05-2893-4acf-a028-01d75805af87"
      },
      "execution_count": 28,
      "outputs": [
        {
          "output_type": "stream",
          "name": "stdout",
          "text": [
            "   id  semana  edad_  uni_med_ sexo_       nombre_barrio           comuna  \\\n",
            "0   1      41     28         1     M             Oriente         Manrique   \n",
            "1   2      41     17         1     F     SIN INFORMACION  SIN INFORMACION   \n",
            "2   3      44     19         1     F   Villa del Socorro       Santa Cruz   \n",
            "3   4      47     27         1     F  Las Independencias       San Javier   \n",
            "4   5      47     23         1     F            Granizal          Popular   \n",
            "\n",
            "  tipo_ss_ cod_ase_    fec_con_  ... peso_nacer  talla_nacer  sem_gest  \\\n",
            "0        N     \\\"\\\"  01/01/1900  ...       2440           49        38   \n",
            "1        S   EPS003  01/01/1900  ...       2490           46        37   \n",
            "2        S   EPS003  01/01/1900  ...       2290           47        37   \n",
            "3        S   EPS003  01/01/1900  ...       2400           49        37   \n",
            "4        N     \\\"\\\"  01/01/1900  ...       2240           47        38   \n",
            "\n",
            "   niv_edu_ma              evento  year_ nueva_columna_sexo numero_comuna  \\\n",
            "0          SD  BAJO PESO AL NACER   2011                  1             3   \n",
            "1          SD  BAJO PESO AL NACER   2011                  0            22   \n",
            "2          SD  BAJO PESO AL NACER   2011                  0             2   \n",
            "3          SD  BAJO PESO AL NACER   2011                  0            13   \n",
            "4          SD  BAJO PESO AL NACER   2011                  0             1   \n",
            "\n",
            "   numero_tipo_ss_  rango_edad_  \n",
            "0                3        25-34  \n",
            "1                2        15-24  \n",
            "2                2        15-24  \n",
            "3                2        25-34  \n",
            "4                3        15-24  \n",
            "\n",
            "[5 rows x 23 columns]\n"
          ]
        }
      ]
    },
    {
      "cell_type": "code",
      "source": [
        "from google.colab import files\n",
        "\n",
        "df.to_csv('BajoPesoNacerModificado.csv', index=False)\n",
        "files.download('BajoPesoNacerModificado.csv')"
      ],
      "metadata": {
        "colab": {
          "base_uri": "https://localhost:8080/",
          "height": 17
        },
        "id": "hxt6jtv8Q_e5",
        "outputId": "4dca2d9f-3d81-4857-f06e-00a23318a884"
      },
      "execution_count": 30,
      "outputs": [
        {
          "output_type": "display_data",
          "data": {
            "text/plain": [
              "<IPython.core.display.Javascript object>"
            ],
            "application/javascript": [
              "\n",
              "    async function download(id, filename, size) {\n",
              "      if (!google.colab.kernel.accessAllowed) {\n",
              "        return;\n",
              "      }\n",
              "      const div = document.createElement('div');\n",
              "      const label = document.createElement('label');\n",
              "      label.textContent = `Downloading \"${filename}\": `;\n",
              "      div.appendChild(label);\n",
              "      const progress = document.createElement('progress');\n",
              "      progress.max = size;\n",
              "      div.appendChild(progress);\n",
              "      document.body.appendChild(div);\n",
              "\n",
              "      const buffers = [];\n",
              "      let downloaded = 0;\n",
              "\n",
              "      const channel = await google.colab.kernel.comms.open(id);\n",
              "      // Send a message to notify the kernel that we're ready.\n",
              "      channel.send({})\n",
              "\n",
              "      for await (const message of channel.messages) {\n",
              "        // Send a message to notify the kernel that we're ready.\n",
              "        channel.send({})\n",
              "        if (message.buffers) {\n",
              "          for (const buffer of message.buffers) {\n",
              "            buffers.push(buffer);\n",
              "            downloaded += buffer.byteLength;\n",
              "            progress.value = downloaded;\n",
              "          }\n",
              "        }\n",
              "      }\n",
              "      const blob = new Blob(buffers, {type: 'application/binary'});\n",
              "      const a = document.createElement('a');\n",
              "      a.href = window.URL.createObjectURL(blob);\n",
              "      a.download = filename;\n",
              "      div.appendChild(a);\n",
              "      a.click();\n",
              "      div.remove();\n",
              "    }\n",
              "  "
            ]
          },
          "metadata": {}
        },
        {
          "output_type": "display_data",
          "data": {
            "text/plain": [
              "<IPython.core.display.Javascript object>"
            ],
            "application/javascript": [
              "download(\"download_658d0f78-ec1d-4c2a-af27-5482d0240cad\", \"BajoPesoNacerModificado.csv\", 1273685)"
            ]
          },
          "metadata": {}
        }
      ]
    }
  ]
}